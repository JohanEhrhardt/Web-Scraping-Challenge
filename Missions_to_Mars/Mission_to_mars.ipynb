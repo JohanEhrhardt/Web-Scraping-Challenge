{
 "cells": [
  {
   "cell_type": "code",
   "execution_count": null,
   "metadata": {},
   "outputs": [],
   "source": [
    "# importing all required libraries\n",
    "from splinter import Browser\n",
    "from bs4 import BeautifulSoup\n",
    "from webdriver_manager.chrome import ChromeDriverManager\n",
    "import pandas as pd\n",
    "from flask import Flask, render_template, redirect\n",
    "from flask_pymongo import PyMongo"
   ]
  },
  {
   "cell_type": "code",
   "execution_count": null,
   "metadata": {},
   "outputs": [],
   "source": [
    "executable_path = {'executable_path': ChromeDriverManager().install()}\n",
    "browser = Browser('chrome''', **executable_path, headless=False)"
   ]
  },
  {
   "cell_type": "code",
   "execution_count": null,
   "metadata": {},
   "outputs": [],
   "source": [
    "#Visit the mars nasa news site\n",
    "url = 'https://redplanetscience.com/'\n",
    "browser.visit(url)\n"
   ]
  },
  {
   "cell_type": "code",
   "execution_count": null,
   "metadata": {},
   "outputs": [],
   "source": [
    "#NASA Mars News\n",
    "html = browser.html\n",
    "soup = BeautifulSoup(html, 'html.parser')\n",
    "\n",
    "news_title = soup.find_all('div', class_='content_title')[0].text\n",
    "news_p = soup.find_all ('div', class_= 'article_teaser_body')[0].text\n",
    "news_title\n",
    "news_p"
   ]
  },
  {
   "cell_type": "code",
   "execution_count": null,
   "metadata": {},
   "outputs": [],
   "source": [
    "#JPL Mars Space Images\n",
    "url =\"https://spaceimages-mars.com/image/featured/mars3.jpg\"\n",
    "browser.visit(url)\n",
    "html = browser.html\n",
    "soup = BeautifulSoup(html, 'html.parser')\n",
    "for div in soup.find_all('div', class_='floating_text_area'):\n",
    "    a = div.find('a')\n",
    "    image = a['href']\n",
    "    print(image)\n",
    "Featured_image_url = 'https://spaceimages-mars.com/image/featured/mars3.jpg'\n",
    "\n",
    "print(f\"Featured_image_url = {Featured_image_url}\")"
   ]
  },
  {
   "cell_type": "code",
   "execution_count": null,
   "metadata": {},
   "outputs": [],
   "source": [
    "#Mars Facts \n",
    "df = pd.read_html('https://galaxyfacts-mars.com')[0]\n",
    "df.head()"
   ]
  },
  {
   "cell_type": "code",
   "execution_count": null,
   "metadata": {},
   "outputs": [],
   "source": [
    "df = pd.read_html('https://galaxyfacts-mars.com')[0]\n",
    "df.columns=['description', 'Mars', 'Earth']\n",
    "df.set_index('description', inplace=True)\n",
    "df"
   ]
  },
  {
   "cell_type": "code",
   "execution_count": null,
   "metadata": {},
   "outputs": [],
   "source": [
    "#Mars Hemispheres\n",
    "url = 'https://marshemispheres.com/'\n",
    "browser.visit(url)\n",
    "html = browser.html\n",
    "soup = BeautifulSoup(html, 'html.parser')\n",
    "\n",
    "results = soup.find_all('div', class_='description')\n",
    "Hemisphere_img_urls = []\n",
    "\n",
    "for result in results:\n",
    "    try:\n",
    "        title = result.find('h3').text\n",
    "        img_link = result.a['href']\n",
    "        url = f\"https://marshemispheres.com/\" + img_link\n",
    "        browser.visit(url)\n",
    "        html = browser.html\n",
    "        soup = BeautifulSoup(html, 'html.parser')\n",
    "        output = soup.find('img', class_= \"wide-image\")\n",
    "        download_link = output['src']\n",
    "        img_url = f\"https://marshemispheres.com/\" + download_link\n",
    "        if (title and download_link):\n",
    "            print(title)\n",
    "            print(f\"https://marshemispheres.com/\" + download_link)\n",
    "            print('-'*107)\n",
    "            hemis_dictionary = { \n",
    "                'Title' :title, \n",
    "                'img_url': img_url,\n",
    "                \"mars_facts\" : df}\n",
    "            Hemisphere_img_urls.append(hemis_dictionary)\n",
    "    except Exception as e:\n",
    "        print(e)"
   ]
  }
 ],
 "metadata": {
  "kernelspec": {
   "display_name": "Python 3.7.13 ('bootcamp')",
   "language": "python",
   "name": "python3"
  },
  "language_info": {
   "codemirror_mode": {
    "name": "ipython",
    "version": 3
   },
   "file_extension": ".py",
   "mimetype": "text/x-python",
   "name": "python",
   "nbconvert_exporter": "python",
   "pygments_lexer": "ipython3",
   "version": "3.7.13"
  },
  "orig_nbformat": 4,
  "vscode": {
   "interpreter": {
    "hash": "98c42bd800c0def929fe5fbc51a51dbf9983246cc50d6d6d1d0f0e7f101cd5b1"
   }
  }
 },
 "nbformat": 4,
 "nbformat_minor": 2
}
